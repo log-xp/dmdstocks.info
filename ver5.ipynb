{
 "cells": [
  {
   "cell_type": "code",
   "execution_count": 1,
   "metadata": {},
   "outputs": [],
   "source": [
    "import numpy as np\n",
    "import pandas as pd\n",
    "import matplotlib.pyplot as plt\n",
    "import os\n",
    "from sklearn.metrics import mean_absolute_error\n",
    "from datetime import datetime\n",
    "import pydmd"
   ]
  },
  {
   "cell_type": "code",
   "execution_count": 2,
   "metadata": {},
   "outputs": [],
   "source": [
    "df = pd.DataFrame()\n",
    "matx = pd.read_csv(\"DATA/NSE100.csv\",header=None) #VARIABLE 1\n",
    "matx = pd.DataFrame(matx.transpose())\n",
    "matx = matx.fillna(0)\n",
    "\n",
    "sym = pd.read_csv(\"DATA/nse100_SYM.csv\",header=None) "
   ]
  },
  {
   "cell_type": "code",
   "execution_count": 3,
   "metadata": {},
   "outputs": [],
   "source": [
    "def dmd_pred_plot(dmd,diff,d_ind,top) :    \n",
    "    dmode = dmd.modes[:,d_ind].real\n",
    "    # Find the indices of the top 5 elements\n",
    "    top_indices = np.argsort(dmode.real)[-top:]\n",
    "    print(\"Recommended stocks are : \")\n",
    "    for i in top_indices:\n",
    "        print(sym[0][i],\"[\",i,\"]\")\n",
    "\n",
    "    # Mark the indices on the plot\n",
    "    plt.plot(diff)\n",
    "    plt.scatter(top_indices,diff[top_indices], color='red')\n",
    "    plt.title(\"NEXT 3 DAYS PERFORMACE - RECOMENDED STOCK\")\n",
    "    plt.show()\n"
   ]
  },
  {
   "cell_type": "code",
   "execution_count": 9,
   "metadata": {},
   "outputs": [],
   "source": [
    "def dmd_analysis(j,top=3,i=12) :\n",
    "    mat = matx.iloc[:, -(i+j):-j]\n",
    "    mat=mat.to_numpy()\n",
    "\n",
    "    # dmd \n",
    "    dmd = pydmd.DMD(svd_rank=mat.shape[1])\n",
    "    dmd.fit(mat)\n",
    "    dmd.dmd_time['tend'] = dmd.dmd_time['tend'] + 9\n",
    "\n",
    "    # creating the matrix mat \n",
    "    # i days are trained j th day from last \n",
    "\n",
    "    #setting the test set \n",
    "    day0 = matx.iloc[:, -j-1]\n",
    "    day1 = matx.iloc[:, -j]\n",
    "    day2 = matx.iloc[:, -j+1]\n",
    "    day3 = matx.iloc[:, -j+2]\n",
    "    day4 = matx.iloc[:, -j+3]\n",
    "    day5 = matx.iloc[:, -j+4]\n",
    "    day6 = matx.iloc[:, -j+5]\n",
    "    day7 = matx.iloc[:, -j+6]\n",
    "    day8 = matx.iloc[:, -j+7]\n",
    "    day9 = matx.iloc[:, -j+8]\n",
    "\n",
    "\n",
    "    mat = matx.iloc[:, -(i+j):-j]\n",
    "    mat=mat.to_numpy()\n",
    "\n",
    "    d_ind = np.argmax(np.abs(dmd.amplitudes.real))\n",
    "\n",
    "    if np.abs(dmd.eigs.real[d_ind])>1 and dmd.eigs.imag[d_ind] == 0 and dmd.amplitudes.real[d_ind] > 0 :\n",
    "        print(\"^^^^ GrowinG ^^^^\")\n",
    "        fig, axs = plt.subplots(2, 1)\n",
    "        axs[0].plot(dmd.amplitudes.real)\n",
    "        dmd_pred_plot(dmd, day3-day0, d_ind, top)\n",
    "        plt.show()\n",
    " \n",
    "    else:\n",
    "        print(\"^^^^ Shrinking ^^^^\")\n",
    "        plt.plot(dmd.amplitudes.real)\n",
    "        plt.show()\n",
    "        if dmd.amplitudes.real[d_ind] > 0 :\n",
    "            print(\"Amplitude is positive\")\n",
    "        plt.title('Amplitudes')\n",
    "        \n",
    "        dmd_pred_plot(dmd, day3-day0, d_ind, top)\n",
    "        \n",
    "    \n",
    "\n",
    "\n"
   ]
  },
  {
   "cell_type": "code",
   "execution_count": 5,
   "metadata": {},
   "outputs": [],
   "source": [
    "def dmd_pred(j,i,stock_name) :\n",
    "    # creating the matrix mat \n",
    "    # i days are trained j th day from last \n",
    "    mat = matx.iloc[:, -(i+j):-j]\n",
    "    mat=mat.to_numpy()\n",
    "    # index where the stock is equal to the symbol\n",
    "    stock_ind = sym[sym[0] == stock_name].index[0]\n",
    "    #setting the test set \n",
    "    day0 = matx.iloc[:, -j-1]\n",
    "    day1 = matx.iloc[:, -j]\n",
    "    day2 = matx.iloc[:, -j+1]\n",
    "    day3 = matx.iloc[:, -j+2]\n",
    "    day4 = matx.iloc[:, -j+3]\n",
    "    day5 = matx.iloc[:, -j+4]\n",
    "    day6 = matx.iloc[:, -j+5]\n",
    "    day7 = matx.iloc[:, -j+6]\n",
    "    day8 = matx.iloc[:, -j+7]\n",
    "    day9 = matx.iloc[:, -j+8]\n",
    "\n",
    "    # dmd \n",
    "    dmd = pydmd.DMD(svd_rank=mat.shape[1])\n",
    "    dmd.fit(mat)\n",
    "    dmd.dmd_time['tend'] = dmd.dmd_time['tend'] + 9\n",
    "    dmd.reconstructed_data.shape\n",
    "\n",
    "\n",
    "    # prediction\n",
    "\n",
    "    pred = dmd.reconstructed_data\n",
    "    pday1 = np.real(pred[:,-9])\n",
    "    pday2 = np.real(pred[:,-8])\n",
    "    pday3 = np.real(pred[:,-7])\n",
    "    pday4 = np.real(pred[:,-6])\n",
    "    pday5 = np.real(pred[:,-5])\n",
    "    pday6 = np.real(pred[:,-4])\n",
    "    pday7 = np.real(pred[:,-3])\n",
    "    pday8 = np.real(pred[:,-2])\n",
    "    pday9 = np.real(pred[:,-1])\n",
    "\n",
    "\n",
    "\n",
    "    # error\n",
    "    print(\"Day1 |\",\"Prediction :\",pday1[stock_ind],\"| Error :\" ,np.abs(day1[stock_ind]-pday1[stock_ind]),\"|\")\n",
    "    print(\"Day2 |\",\"Prediction :\",pday2[stock_ind],\"| Error :\" ,np.abs(day2[stock_ind]-pday2[stock_ind]),\"|\")\n",
    "    print(\"Day3 |\",\"Prediction :\",pday3[stock_ind],\"| Error :\" ,np.abs(day3[stock_ind]-pday3[stock_ind]),\"|\")\n",
    "    print(\"Day4 |\",\"Prediction :\",pday4[stock_ind],\"| Error :\" ,np.abs(day4[stock_ind]-pday4[stock_ind]),\"|\")\n",
    "    print(\"Day5 |\",\"Prediction :\",pday5[stock_ind],\"| Error :\" ,np.abs(day5[stock_ind]-pday5[stock_ind]),\"|\")\n",
    "    print(\"Day6 |\",\"Prediction :\",pday6[stock_ind],\"| Error :\" ,np.abs(day6[stock_ind]-pday6[stock_ind]),\"|\")\n",
    "    print(\"Day7 |\",\"Prediction :\",pday7[stock_ind],\"| Error :\" ,np.abs(day7[stock_ind]-pday7[stock_ind]),\"|\")\n",
    "    print(\"Day8 |\",\"Prediction :\",pday8[stock_ind],\"| Error :\" ,np.abs(day8[stock_ind]-pday7[stock_ind]),\"|\")\n",
    "    print(\"Day9 |\",\"Prediction :\",pday9[stock_ind],\"| Error :\" ,np.abs(day9[stock_ind]-pday7[stock_ind]),\"|\")\n",
    "\n",
    "\n",
    "\n",
    "\n"
   ]
  },
  {
   "cell_type": "code",
   "execution_count": null,
   "metadata": {},
   "outputs": [],
   "source": []
  },
  {
   "cell_type": "code",
   "execution_count": 10,
   "metadata": {},
   "outputs": [
    {
     "name": "stdout",
     "output_type": "stream",
     "text": [
      "^^^^ Shrinking ^^^^\n"
     ]
    },
    {
     "data": {
      "image/png": "[encoded data removed]",
      "text/plain": [
       "<Figure size 640x480 with 1 Axes>"
      ]
     },
     "metadata": {},
     "output_type": "display_data"
    },
    {
     "name": "stdout",
     "output_type": "stream",
     "text": [
      "Amplitude is positive\n",
      "Recommended stocks are : \n",
      "BOSCHLTD [ 95 ]\n",
      "NESTLEIND [ 29 ]\n",
      "SHREECEM [ 60 ]\n"
     ]
    },
    {
     "data": {
      "image/png": "[encoded data removed]",
      "text/plain": [
       "<Figure size 640x480 with 1 Axes>"
      ]
     },
     "metadata": {},
     "output_type": "display_data"
    }
   ],
   "source": [
    "j=25 # date from last                  VARIABLE 2\n",
    "top=3 # no of stock recomendations     VARIABLE 3 \n",
    "i=12 # training days                   VARIABLE 4\n",
    "dmd_analysis(j,top,i) # analysis"
   ]
  },
  {
   "attachments": {},
   "cell_type": "markdown",
   "metadata": {},
   "source": [
    "SELECT STOCK "
   ]
  },
  {
   "cell_type": "code",
   "execution_count": 11,
   "metadata": {},
   "outputs": [
    {
     "data": {
      "text/html": [
       "<div>\n",
       "<style scoped>\n",
       "    .dataframe tbody tr th:only-of-type {\n",
       "        vertical-align: middle;\n",
       "    }\n",
       "\n",
       "    .dataframe tbody tr th {\n",
       "        vertical-align: top;\n",
       "    }\n",
       "\n",
       "    .dataframe thead th {\n",
       "        text-align: right;\n",
       "    }\n",
       "</style>\n",
       "<table border=\"1\" class=\"dataframe\">\n",
       "  <thead>\n",
       "    <tr style=\"text-align: right;\">\n",
       "      <th></th>\n",
       "      <th>0</th>\n",
       "    </tr>\n",
       "  </thead>\n",
       "  <tbody>\n",
       "    <tr>\n",
       "      <th>0</th>\n",
       "      <td>KARURVYSYA</td>\n",
       "    </tr>\n",
       "    <tr>\n",
       "      <th>1</th>\n",
       "      <td>RELIANCE</td>\n",
       "    </tr>\n",
       "    <tr>\n",
       "      <th>2</th>\n",
       "      <td>TCS</td>\n",
       "    </tr>\n",
       "    <tr>\n",
       "      <th>3</th>\n",
       "      <td>HDFCBANK</td>\n",
       "    </tr>\n",
       "    <tr>\n",
       "      <th>4</th>\n",
       "      <td>INFY</td>\n",
       "    </tr>\n",
       "    <tr>\n",
       "      <th>...</th>\n",
       "      <td>...</td>\n",
       "    </tr>\n",
       "    <tr>\n",
       "      <th>95</th>\n",
       "      <td>BOSCHLTD</td>\n",
       "    </tr>\n",
       "    <tr>\n",
       "      <th>96</th>\n",
       "      <td>INDUSTOWER</td>\n",
       "    </tr>\n",
       "    <tr>\n",
       "      <th>97</th>\n",
       "      <td>PIIND</td>\n",
       "    </tr>\n",
       "    <tr>\n",
       "      <th>98</th>\n",
       "      <td>FACT</td>\n",
       "    </tr>\n",
       "    <tr>\n",
       "      <th>99</th>\n",
       "      <td>SUNTV</td>\n",
       "    </tr>\n",
       "  </tbody>\n",
       "</table>\n",
       "<p>100 rows × 1 columns</p>\n",
       "</div>"
      ],
      "text/plain": [
       "             0\n",
       "0   KARURVYSYA\n",
       "1     RELIANCE\n",
       "2          TCS\n",
       "3     HDFCBANK\n",
       "4         INFY\n",
       "..         ...\n",
       "95    BOSCHLTD\n",
       "96  INDUSTOWER\n",
       "97       PIIND\n",
       "98        FACT\n",
       "99       SUNTV\n",
       "\n",
       "[100 rows x 1 columns]"
      ]
     },
     "execution_count": 11,
     "metadata": {},
     "output_type": "execute_result"
    }
   ],
   "source": [
    "sym\n"
   ]
  },
  {
   "attachments": {},
   "cell_type": "markdown",
   "metadata": {},
   "source": [
    "choosing HDFCBANK"
   ]
  },
  {
   "cell_type": "code",
   "execution_count": 12,
   "metadata": {},
   "outputs": [
    {
     "name": "stdout",
     "output_type": "stream",
     "text": [
      "Day1 | Prediction : 1490.643106826317 | Error : 18.156893173682874 |\n",
      "Day2 | Prediction : 1479.0785152714475 | Error : 29.271484728552423 |\n",
      "Day3 | Prediction : 1476.4993363465007 | Error : 48.25066365349926 |\n",
      "Day4 | Prediction : 1470.1966797998925 | Error : 140.95332020010756 |\n",
      "Day5 | Prediction : 1455.0762661462231 | Error : 159.97373385377682 |\n",
      "Day6 | Prediction : 1450.7873604848344 | Error : 168.21263951516562 |\n",
      "Day7 | Prediction : 1452.4344393562346 | Error : 180.46556064376546 |\n",
      "Day8 | Prediction : 1442.4430435233749 | Error : 165.71556064376546 |\n",
      "Day9 | Prediction : 1431.8532971660097 | Error : 161.46556064376546 |\n"
     ]
    }
   ],
   "source": [
    "stock = 'HDFCBANK' # VARIABLE 5\n",
    "\n",
    "dmd_pred(25,12,stock)\n"
   ]
  }
 ],
 "metadata": {
  "kernelspec": {
   "display_name": "normie",
   "language": "python",
   "name": "python3"
  },
  "language_info": {
   "codemirror_mode": {
    "name": "ipython",
    "version": 3
   },
   "file_extension": ".py",
   "mimetype": "text/x-python",
   "name": "python",
   "nbconvert_exporter": "python",
   "pygments_lexer": "ipython3",
   "version": "3.9.15"
  },
  "orig_nbformat": 4,
  "vscode": {
   "interpreter": {
    "hash": "4f45246d46b54e5e727c3ddad81ba589f4dff0ee5e457e240d3fd1e741d3b20e"
   }
  }
 },
 "nbformat": 4,
 "nbformat_minor": 2
}
