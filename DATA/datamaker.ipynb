{
 "cells": [
  {
   "cell_type": "code",
   "execution_count": 1,
   "metadata": {},
   "outputs": [],
   "source": [
    "import yfinance as yf\n",
    "import pandas as pd\n",
    "import numpy as np"
   ]
  },
  {
   "cell_type": "code",
   "execution_count": 2,
   "metadata": {},
   "outputs": [],
   "source": [
    "names = pd.read_csv('nse100_SYM.csv',header=None)\n",
    "# names = names+'.NS'\n"
   ]
  },
  {
   "cell_type": "code",
   "execution_count": 3,
   "metadata": {},
   "outputs": [
    {
     "data": {
      "text/html": [
       "<div>\n",
       "<style scoped>\n",
       "    .dataframe tbody tr th:only-of-type {\n",
       "        vertical-align: middle;\n",
       "    }\n",
       "\n",
       "    .dataframe tbody tr th {\n",
       "        vertical-align: top;\n",
       "    }\n",
       "\n",
       "    .dataframe thead th {\n",
       "        text-align: right;\n",
       "    }\n",
       "</style>\n",
       "<table border=\"1\" class=\"dataframe\">\n",
       "  <thead>\n",
       "    <tr style=\"text-align: right;\">\n",
       "      <th></th>\n",
       "      <th>0</th>\n",
       "    </tr>\n",
       "  </thead>\n",
       "  <tbody>\n",
       "    <tr>\n",
       "      <th>0</th>\n",
       "      <td>KARURVYSYA</td>\n",
       "    </tr>\n",
       "    <tr>\n",
       "      <th>1</th>\n",
       "      <td>RELIANCE</td>\n",
       "    </tr>\n",
       "    <tr>\n",
       "      <th>2</th>\n",
       "      <td>TCS</td>\n",
       "    </tr>\n",
       "    <tr>\n",
       "      <th>3</th>\n",
       "      <td>HDFCBANK</td>\n",
       "    </tr>\n",
       "    <tr>\n",
       "      <th>4</th>\n",
       "      <td>INFY</td>\n",
       "    </tr>\n",
       "    <tr>\n",
       "      <th>...</th>\n",
       "      <td>...</td>\n",
       "    </tr>\n",
       "    <tr>\n",
       "      <th>95</th>\n",
       "      <td>BOSCHLTD</td>\n",
       "    </tr>\n",
       "    <tr>\n",
       "      <th>96</th>\n",
       "      <td>INDUSTOWER</td>\n",
       "    </tr>\n",
       "    <tr>\n",
       "      <th>97</th>\n",
       "      <td>PIIND</td>\n",
       "    </tr>\n",
       "    <tr>\n",
       "      <th>98</th>\n",
       "      <td>FACT</td>\n",
       "    </tr>\n",
       "    <tr>\n",
       "      <th>99</th>\n",
       "      <td>SUNTV</td>\n",
       "    </tr>\n",
       "  </tbody>\n",
       "</table>\n",
       "<p>100 rows × 1 columns</p>\n",
       "</div>"
      ],
      "text/plain": [
       "             0\n",
       "0   KARURVYSYA\n",
       "1     RELIANCE\n",
       "2          TCS\n",
       "3     HDFCBANK\n",
       "4         INFY\n",
       "..         ...\n",
       "95    BOSCHLTD\n",
       "96  INDUSTOWER\n",
       "97       PIIND\n",
       "98        FACT\n",
       "99       SUNTV\n",
       "\n",
       "[100 rows x 1 columns]"
      ]
     },
     "execution_count": 3,
     "metadata": {},
     "output_type": "execute_result"
    }
   ],
   "source": [
    "names"
   ]
  },
  {
   "cell_type": "code",
   "execution_count": 25,
   "metadata": {},
   "outputs": [],
   "source": [
    "# SYM.to_csv(\"sum.csv\")\n"
   ]
  },
  {
   "cell_type": "code",
   "execution_count": 26,
   "metadata": {},
   "outputs": [],
   "source": [
    "#sym= pd.read_csv('nse50_sym.csv',header=None)\n",
    "sym = names.squeeze()"
   ]
  },
  {
   "cell_type": "code",
   "execution_count": 27,
   "metadata": {},
   "outputs": [
    {
     "data": {
      "text/plain": [
       "pandas.core.series.Series"
      ]
     },
     "execution_count": 27,
     "metadata": {},
     "output_type": "execute_result"
    }
   ],
   "source": [
    "type(sym)"
   ]
  },
  {
   "cell_type": "code",
   "execution_count": 4,
   "metadata": {},
   "outputs": [
    {
     "data": {
      "text/plain": [
       "'KARURVYSYA'"
      ]
     },
     "execution_count": 4,
     "metadata": {},
     "output_type": "execute_result"
    }
   ],
   "source": [
    "names[0][0]"
   ]
  },
  {
   "cell_type": "code",
   "execution_count": 29,
   "metadata": {},
   "outputs": [],
   "source": [
    "# initialize = yf.download(names[0][0], start=\"2017-01-01\", end=\"2022-12-12\")\n"
   ]
  },
  {
   "cell_type": "code",
   "execution_count": 9,
   "metadata": {},
   "outputs": [],
   "source": [
    "SYM =[ i + \".NS\" for i in names[0]]\n",
    "names[0]=SYM"
   ]
  },
  {
   "cell_type": "code",
   "execution_count": 10,
   "metadata": {},
   "outputs": [
    {
     "name": "stdout",
     "output_type": "stream",
     "text": [
      "[*********************100%***********************]  1 of 1 completed\n",
      "[*********************100%***********************]  1 of 1 completed\n",
      "1\n",
      "[*********************100%***********************]  1 of 1 completed\n",
      "2\n",
      "[*********************100%***********************]  1 of 1 completed\n",
      "3\n",
      "[*********************100%***********************]  1 of 1 completed\n",
      "4\n",
      "[*********************100%***********************]  1 of 1 completed\n",
      "5\n",
      "[*********************100%***********************]  1 of 1 completed\n",
      "6\n",
      "[*********************100%***********************]  1 of 1 completed\n",
      "7\n",
      "[*********************100%***********************]  1 of 1 completed\n",
      "8\n",
      "[*********************100%***********************]  1 of 1 completed\n",
      "9\n",
      "[*********************100%***********************]  1 of 1 completed\n",
      "10\n",
      "[*********************100%***********************]  1 of 1 completed\n",
      "11\n",
      "[*********************100%***********************]  1 of 1 completed\n",
      "12\n",
      "[*********************100%***********************]  1 of 1 completed\n",
      "13\n",
      "[*********************100%***********************]  1 of 1 completed\n",
      "14\n",
      "[*********************100%***********************]  1 of 1 completed\n",
      "15\n",
      "[*********************100%***********************]  1 of 1 completed\n",
      "16\n",
      "[*********************100%***********************]  1 of 1 completed\n",
      "17\n",
      "[*********************100%***********************]  1 of 1 completed\n",
      "18\n",
      "[*********************100%***********************]  1 of 1 completed\n",
      "19\n",
      "[*********************100%***********************]  1 of 1 completed\n",
      "20\n",
      "[*********************100%***********************]  1 of 1 completed\n",
      "21\n",
      "[*********************100%***********************]  1 of 1 completed\n",
      "22\n",
      "[*********************100%***********************]  1 of 1 completed\n",
      "23\n",
      "[*********************100%***********************]  1 of 1 completed\n",
      "24\n",
      "[*********************100%***********************]  1 of 1 completed\n",
      "25\n",
      "[*********************100%***********************]  1 of 1 completed\n",
      "26\n",
      "[*********************100%***********************]  1 of 1 completed\n",
      "27\n",
      "[*********************100%***********************]  1 of 1 completed\n",
      "28\n",
      "[*********************100%***********************]  1 of 1 completed\n",
      "29\n",
      "[*********************100%***********************]  1 of 1 completed\n",
      "30\n",
      "[*********************100%***********************]  1 of 1 completed\n",
      "31\n",
      "[*********************100%***********************]  1 of 1 completed\n",
      "32\n",
      "[*********************100%***********************]  1 of 1 completed\n",
      "33\n",
      "[*********************100%***********************]  1 of 1 completed\n",
      "34\n",
      "[*********************100%***********************]  1 of 1 completed\n",
      "35\n",
      "[*********************100%***********************]  1 of 1 completed\n",
      "36\n",
      "[*********************100%***********************]  1 of 1 completed\n",
      "37\n",
      "[*********************100%***********************]  1 of 1 completed\n",
      "38\n",
      "[*********************100%***********************]  1 of 1 completed\n",
      "39\n",
      "[*********************100%***********************]  1 of 1 completed\n",
      "40\n",
      "[*********************100%***********************]  1 of 1 completed\n",
      "41\n",
      "[*********************100%***********************]  1 of 1 completed\n",
      "42\n",
      "[*********************100%***********************]  1 of 1 completed\n",
      "43\n",
      "[*********************100%***********************]  1 of 1 completed\n",
      "44\n",
      "[*********************100%***********************]  1 of 1 completed\n",
      "45\n",
      "[*********************100%***********************]  1 of 1 completed\n",
      "46\n",
      "[*********************100%***********************]  1 of 1 completed\n",
      "47\n",
      "[*********************100%***********************]  1 of 1 completed\n",
      "48\n",
      "[*********************100%***********************]  1 of 1 completed\n",
      "49\n",
      "[*********************100%***********************]  1 of 1 completed\n",
      "50\n",
      "[*********************100%***********************]  1 of 1 completed\n",
      "51\n",
      "[*********************100%***********************]  1 of 1 completed\n",
      "52\n",
      "[*********************100%***********************]  1 of 1 completed\n",
      "53\n",
      "[*********************100%***********************]  1 of 1 completed\n",
      "54\n",
      "[*********************100%***********************]  1 of 1 completed\n",
      "55\n",
      "[*********************100%***********************]  1 of 1 completed\n",
      "56\n",
      "[*********************100%***********************]  1 of 1 completed\n",
      "57\n",
      "[*********************100%***********************]  1 of 1 completed\n",
      "58\n",
      "[*********************100%***********************]  1 of 1 completed\n",
      "59\n",
      "[*********************100%***********************]  1 of 1 completed\n",
      "60\n",
      "[*********************100%***********************]  1 of 1 completed\n",
      "61\n",
      "[*********************100%***********************]  1 of 1 completed\n",
      "62\n",
      "[*********************100%***********************]  1 of 1 completed\n",
      "63\n",
      "[*********************100%***********************]  1 of 1 completed\n",
      "64\n",
      "[*********************100%***********************]  1 of 1 completed\n",
      "65\n",
      "[*********************100%***********************]  1 of 1 completed\n",
      "66\n",
      "[*********************100%***********************]  1 of 1 completed\n",
      "67\n",
      "[*********************100%***********************]  1 of 1 completed\n",
      "68\n",
      "[*********************100%***********************]  1 of 1 completed\n",
      "69\n",
      "[*********************100%***********************]  1 of 1 completed\n",
      "70\n",
      "[*********************100%***********************]  1 of 1 completed\n",
      "71\n",
      "[*********************100%***********************]  1 of 1 completed\n",
      "72\n",
      "[*********************100%***********************]  1 of 1 completed\n",
      "73\n",
      "[*********************100%***********************]  1 of 1 completed\n",
      "74\n",
      "[*********************100%***********************]  1 of 1 completed\n",
      "75\n",
      "[*********************100%***********************]  1 of 1 completed\n",
      "76\n",
      "[*********************100%***********************]  1 of 1 completed\n",
      "77\n",
      "[*********************100%***********************]  1 of 1 completed\n",
      "78\n",
      "[*********************100%***********************]  1 of 1 completed\n",
      "79\n",
      "[*********************100%***********************]  1 of 1 completed\n",
      "80\n",
      "[*********************100%***********************]  1 of 1 completed\n",
      "81\n",
      "[*********************100%***********************]  1 of 1 completed\n",
      "82\n",
      "[*********************100%***********************]  1 of 1 completed\n",
      "83\n",
      "[*********************100%***********************]  1 of 1 completed\n",
      "84\n",
      "[*********************100%***********************]  1 of 1 completed\n",
      "85\n",
      "[*********************100%***********************]  1 of 1 completed\n",
      "86\n",
      "[*********************100%***********************]  1 of 1 completed\n",
      "87\n",
      "[*********************100%***********************]  1 of 1 completed\n",
      "88\n",
      "[*********************100%***********************]  1 of 1 completed\n",
      "89\n",
      "[*********************100%***********************]  1 of 1 completed\n",
      "90\n",
      "[*********************100%***********************]  1 of 1 completed\n",
      "91\n",
      "[*********************100%***********************]  1 of 1 completed\n",
      "92\n",
      "[*********************100%***********************]  1 of 1 completed\n",
      "93\n",
      "[*********************100%***********************]  1 of 1 completed\n",
      "94\n",
      "[*********************100%***********************]  1 of 1 completed\n",
      "95\n",
      "[*********************100%***********************]  1 of 1 completed\n",
      "96\n",
      "[*********************100%***********************]  1 of 1 completed\n",
      "97\n",
      "[*********************100%***********************]  1 of 1 completed\n",
      "98\n",
      "[*********************100%***********************]  1 of 1 completed\n",
      "99\n"
     ]
    }
   ],
   "source": [
    "initialize = yf.download(names[0][0], start=\"2012-01-01\", end=\"2023-01-17\")\n",
    "matrix = initialize['Close']\n",
    "# Download historical data for required stocks\n",
    "for i in range(1, len(names[0])):\n",
    "    SnP = yf.download(names[0][i], start=\"2012-01-01\", end=\"2023-01-17\")\n",
    "    \n",
    "    matrix = pd.concat([matrix, SnP['Close']], axis=1)\n",
    "    print(i)"
   ]
  },
  {
   "cell_type": "code",
   "execution_count": 7,
   "metadata": {},
   "outputs": [
    {
     "name": "stdout",
     "output_type": "stream",
     "text": [
      "90\n",
      "91\n",
      "92\n",
      "93\n",
      "94\n",
      "95\n",
      "96\n",
      "97\n",
      "98\n",
      "99\n"
     ]
    }
   ],
   "source": [
    "# import nsepy\n",
    "# from datetime import date\n",
    "\n",
    "# start_date = date(2017,1,1)\n",
    "# end_date = date(2022,12,12)\n",
    "\n",
    "# # matrix = nsepy.get_history(symbol=names[0][0], start=start_date, end=end_date)\n",
    "# # matrix = matrix['Close']\n",
    "\n",
    "# for i in range(90, len(names[0])):\n",
    "#     SnP = nsepy.get_history(symbol=names[0][i], start=start_date, end=end_date)\n",
    "#     matrix = pd.concat([matrix, SnP['Close']], axis=1)\n",
    "#     time.sleep(2) \n",
    "#     print(i)\n",
    "\n",
    "\n",
    "\n"
   ]
  },
  {
   "cell_type": "code",
   "execution_count": 4,
   "metadata": {},
   "outputs": [],
   "source": [
    "import time\n",
    "time.sleep(0.5) "
   ]
  },
  {
   "cell_type": "code",
   "execution_count": 8,
   "metadata": {},
   "outputs": [
    {
     "data": {
      "text/plain": [
       "(1473, 100)"
      ]
     },
     "execution_count": 8,
     "metadata": {},
     "output_type": "execute_result"
    }
   ],
   "source": [
    "matrix.shape"
   ]
  },
  {
   "cell_type": "code",
   "execution_count": 11,
   "metadata": {},
   "outputs": [],
   "source": [
    "\n",
    "matrix.to_csv('NSE100_1.csv')"
   ]
  },
  {
   "cell_type": "code",
   "execution_count": null,
   "metadata": {},
   "outputs": [
    {
     "data": {
      "text/plain": [
       "0        537.455444\n",
       "1        539.585266\n",
       "2        528.564758\n",
       "3        533.641602\n",
       "4        532.428101\n",
       "           ...     \n",
       "1449    2619.050049\n",
       "1450    2607.300049\n",
       "1451    2592.350098\n",
       "1452    2599.050049\n",
       "1453    2597.649902\n",
       "Name: Close, Length: 1454, dtype: float64"
      ]
     },
     "execution_count": 17,
     "metadata": {},
     "output_type": "execute_result"
    }
   ],
   "source": []
  },
  {
   "cell_type": "code",
   "execution_count": null,
   "metadata": {},
   "outputs": [],
   "source": [
    "matrix.to_csv('data.csv')"
   ]
  },
  {
   "cell_type": "code",
   "execution_count": null,
   "metadata": {},
   "outputs": [
    {
     "data": {
      "text/plain": [
       "Date\n",
       "2017-01-02     714.799988\n",
       "2017-01-03     711.750000\n",
       "2017-01-04     695.599976\n",
       "2017-01-05     698.950012\n",
       "2017-01-06     716.849976\n",
       "                 ...     \n",
       "2019-12-23    1704.900024\n",
       "2019-12-24    1711.550049\n",
       "2019-12-26    1694.250000\n",
       "2019-12-27    1685.599976\n",
       "2019-12-30    1690.400024\n",
       "Name: Close, Length: 736, dtype: float64"
      ]
     },
     "execution_count": 17,
     "metadata": {},
     "output_type": "execute_result"
    }
   ],
   "source": [
    "SnP['Close']"
   ]
  },
  {
   "cell_type": "code",
   "execution_count": null,
   "metadata": {},
   "outputs": [
    {
     "name": "stdout",
     "output_type": "stream",
     "text": [
      "[*********************100%***********************]  1 of 1 completed\n"
     ]
    },
    {
     "data": {
      "text/html": [
       "<div>\n",
       "<style scoped>\n",
       "    .dataframe tbody tr th:only-of-type {\n",
       "        vertical-align: middle;\n",
       "    }\n",
       "\n",
       "    .dataframe tbody tr th {\n",
       "        vertical-align: top;\n",
       "    }\n",
       "\n",
       "    .dataframe thead th {\n",
       "        text-align: right;\n",
       "    }\n",
       "</style>\n",
       "<table border=\"1\" class=\"dataframe\">\n",
       "  <thead>\n",
       "    <tr style=\"text-align: right;\">\n",
       "      <th></th>\n",
       "      <th>Open</th>\n",
       "      <th>High</th>\n",
       "      <th>Low</th>\n",
       "      <th>Close</th>\n",
       "      <th>Adj Close</th>\n",
       "      <th>Volume</th>\n",
       "    </tr>\n",
       "    <tr>\n",
       "      <th>Date</th>\n",
       "      <th></th>\n",
       "      <th></th>\n",
       "      <th></th>\n",
       "      <th></th>\n",
       "      <th></th>\n",
       "      <th></th>\n",
       "    </tr>\n",
       "  </thead>\n",
       "  <tbody>\n",
       "    <tr>\n",
       "      <th>2017-03-21</th>\n",
       "      <td>600.000000</td>\n",
       "      <td>648.900024</td>\n",
       "      <td>558.299988</td>\n",
       "      <td>641.599976</td>\n",
       "      <td>641.599976</td>\n",
       "      <td>85728445</td>\n",
       "    </tr>\n",
       "    <tr>\n",
       "      <th>2017-03-22</th>\n",
       "      <td>641.549988</td>\n",
       "      <td>657.450012</td>\n",
       "      <td>625.099976</td>\n",
       "      <td>638.549988</td>\n",
       "      <td>638.549988</td>\n",
       "      <td>15817671</td>\n",
       "    </tr>\n",
       "    <tr>\n",
       "      <th>2017-03-23</th>\n",
       "      <td>637.900024</td>\n",
       "      <td>648.000000</td>\n",
       "      <td>628.150024</td>\n",
       "      <td>634.849976</td>\n",
       "      <td>634.849976</td>\n",
       "      <td>4690121</td>\n",
       "    </tr>\n",
       "    <tr>\n",
       "      <th>2017-03-24</th>\n",
       "      <td>635.450012</td>\n",
       "      <td>640.450012</td>\n",
       "      <td>612.599976</td>\n",
       "      <td>616.900024</td>\n",
       "      <td>616.900024</td>\n",
       "      <td>4865013</td>\n",
       "    </tr>\n",
       "    <tr>\n",
       "      <th>2017-03-27</th>\n",
       "      <td>615.000000</td>\n",
       "      <td>623.000000</td>\n",
       "      <td>602.349976</td>\n",
       "      <td>614.400024</td>\n",
       "      <td>614.400024</td>\n",
       "      <td>3535098</td>\n",
       "    </tr>\n",
       "    <tr>\n",
       "      <th>...</th>\n",
       "      <td>...</td>\n",
       "      <td>...</td>\n",
       "      <td>...</td>\n",
       "      <td>...</td>\n",
       "      <td>...</td>\n",
       "      <td>...</td>\n",
       "    </tr>\n",
       "    <tr>\n",
       "      <th>2022-11-14</th>\n",
       "      <td>4144.799805</td>\n",
       "      <td>4144.799805</td>\n",
       "      <td>4081.800049</td>\n",
       "      <td>4098.350098</td>\n",
       "      <td>4098.350098</td>\n",
       "      <td>300509</td>\n",
       "    </tr>\n",
       "    <tr>\n",
       "      <th>2022-11-15</th>\n",
       "      <td>4082.000000</td>\n",
       "      <td>4109.799805</td>\n",
       "      <td>4046.000000</td>\n",
       "      <td>4053.800049</td>\n",
       "      <td>4053.800049</td>\n",
       "      <td>496893</td>\n",
       "    </tr>\n",
       "    <tr>\n",
       "      <th>2022-11-16</th>\n",
       "      <td>4053.800049</td>\n",
       "      <td>4059.949951</td>\n",
       "      <td>4003.149902</td>\n",
       "      <td>4011.699951</td>\n",
       "      <td>4011.699951</td>\n",
       "      <td>290474</td>\n",
       "    </tr>\n",
       "    <tr>\n",
       "      <th>2022-11-17</th>\n",
       "      <td>4000.000000</td>\n",
       "      <td>4009.949951</td>\n",
       "      <td>3940.000000</td>\n",
       "      <td>3949.199951</td>\n",
       "      <td>3949.199951</td>\n",
       "      <td>365371</td>\n",
       "    </tr>\n",
       "    <tr>\n",
       "      <th>2022-11-18</th>\n",
       "      <td>3968.899902</td>\n",
       "      <td>4020.000000</td>\n",
       "      <td>3890.050049</td>\n",
       "      <td>3910.600098</td>\n",
       "      <td>3910.600098</td>\n",
       "      <td>402297</td>\n",
       "    </tr>\n",
       "  </tbody>\n",
       "</table>\n",
       "<p>1401 rows × 6 columns</p>\n",
       "</div>"
      ],
      "text/plain": [
       "                   Open         High          Low        Close    Adj Close  \\\n",
       "Date                                                                          \n",
       "2017-03-21   600.000000   648.900024   558.299988   641.599976   641.599976   \n",
       "2017-03-22   641.549988   657.450012   625.099976   638.549988   638.549988   \n",
       "2017-03-23   637.900024   648.000000   628.150024   634.849976   634.849976   \n",
       "2017-03-24   635.450012   640.450012   612.599976   616.900024   616.900024   \n",
       "2017-03-27   615.000000   623.000000   602.349976   614.400024   614.400024   \n",
       "...                 ...          ...          ...          ...          ...   \n",
       "2022-11-14  4144.799805  4144.799805  4081.800049  4098.350098  4098.350098   \n",
       "2022-11-15  4082.000000  4109.799805  4046.000000  4053.800049  4053.800049   \n",
       "2022-11-16  4053.800049  4059.949951  4003.149902  4011.699951  4011.699951   \n",
       "2022-11-17  4000.000000  4009.949951  3940.000000  3949.199951  3949.199951   \n",
       "2022-11-18  3968.899902  4020.000000  3890.050049  3910.600098  3910.600098   \n",
       "\n",
       "              Volume  \n",
       "Date                  \n",
       "2017-03-21  85728445  \n",
       "2017-03-22  15817671  \n",
       "2017-03-23   4690121  \n",
       "2017-03-24   4865013  \n",
       "2017-03-27   3535098  \n",
       "...              ...  \n",
       "2022-11-14    300509  \n",
       "2022-11-15    496893  \n",
       "2022-11-16    290474  \n",
       "2022-11-17    365371  \n",
       "2022-11-18    402297  \n",
       "\n",
       "[1401 rows x 6 columns]"
      ]
     },
     "execution_count": 79,
     "metadata": {},
     "output_type": "execute_result"
    }
   ],
   "source": [
    "yf.download(sym[12], start=\"2017-01-01\", end=\"2022-11-21\")"
   ]
  }
 ],
 "metadata": {
  "kernelspec": {
   "display_name": "normie",
   "language": "python",
   "name": "python3"
  },
  "language_info": {
   "codemirror_mode": {
    "name": "ipython",
    "version": 3
   },
   "file_extension": ".py",
   "mimetype": "text/x-python",
   "name": "python",
   "nbconvert_exporter": "python",
   "pygments_lexer": "ipython3",
   "version": "3.9.15"
  },
  "orig_nbformat": 4,
  "vscode": {
   "interpreter": {
    "hash": "4f45246d46b54e5e727c3ddad81ba589f4dff0ee5e457e240d3fd1e741d3b20e"
   }
  }
 },
 "nbformat": 4,
 "nbformat_minor": 2
}
