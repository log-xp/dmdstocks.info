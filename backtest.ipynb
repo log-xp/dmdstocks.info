{
 "cells": [
  {
   "cell_type": "code",
   "execution_count": 1,
   "metadata": {},
   "outputs": [],
   "source": [
    "import numpy as np\n",
    "import pandas as pd\n",
    "import matplotlib.pyplot as plt\n",
    "import os\n",
    "from sklearn.metrics import mean_absolute_error\n",
    "import pydmd\n",
    "import backtrader as bt\n",
    "import yfinance as yf\n",
    "\n",
    "import backtrader.analyzers as btanalyzers\n",
    "from datetime import datetime\n",
    "import backtrader.feeds as btfeeds\n"
   ]
  },
  {
   "cell_type": "code",
   "execution_count": 6,
   "metadata": {},
   "outputs": [],
   "source": [
    "sym = pd.read_csv(\"DATA/nse100_SYM.csv\",header=None) \n",
    "sym = sym[0].tolist()\n",
    "SYM =[ i + \".NS\" for i in sym]"
   ]
  },
  {
   "cell_type": "code",
   "execution_count": 22,
   "metadata": {},
   "outputs": [],
   "source": [
    "df = pd.DataFrame()\n",
    "matx = pd.read_csv(\"DATA/NSE100.csv\",header=None) #VARIABLE 1\n",
    "matx = pd.DataFrame(matx.transpose())\n",
    "matx = matx.fillna(0)"
   ]
  },
  {
   "cell_type": "code",
   "execution_count": 8,
   "metadata": {},
   "outputs": [
    {
     "name": "stdout",
     "output_type": "stream",
     "text": [
      "[*********************100%***********************]  1 of 1 completed\n",
      "[*********************100%***********************]  1 of 1 completed\n",
      "[*********************100%***********************]  1 of 1 completed\n",
      "[*********************100%***********************]  1 of 1 completed\n",
      "[*********************100%***********************]  1 of 1 completed\n",
      "[*********************100%***********************]  1 of 1 completed\n",
      "[*********************100%***********************]  1 of 1 completed\n",
      "[*********************100%***********************]  1 of 1 completed\n",
      "[*********************100%***********************]  1 of 1 completed\n",
      "[*********************100%***********************]  1 of 1 completed\n",
      "[*********************100%***********************]  1 of 1 completed\n",
      "[*********************100%***********************]  1 of 1 completed\n",
      "[*********************100%***********************]  1 of 1 completed\n",
      "[*********************100%***********************]  1 of 1 completed\n",
      "[*********************100%***********************]  1 of 1 completed\n",
      "[*********************100%***********************]  1 of 1 completed\n",
      "[*********************100%***********************]  1 of 1 completed\n",
      "[*********************100%***********************]  1 of 1 completed\n",
      "[*********************100%***********************]  1 of 1 completed\n",
      "[*********************100%***********************]  1 of 1 completed\n",
      "[*********************100%***********************]  1 of 1 completed\n",
      "[*********************100%***********************]  1 of 1 completed\n",
      "[*********************100%***********************]  1 of 1 completed\n",
      "[*********************100%***********************]  1 of 1 completed\n",
      "[*********************100%***********************]  1 of 1 completed\n",
      "[*********************100%***********************]  1 of 1 completed\n",
      "[*********************100%***********************]  1 of 1 completed\n",
      "[*********************100%***********************]  1 of 1 completed\n",
      "[*********************100%***********************]  1 of 1 completed\n",
      "[*********************100%***********************]  1 of 1 completed\n",
      "[*********************100%***********************]  1 of 1 completed\n",
      "[*********************100%***********************]  1 of 1 completed\n",
      "[*********************100%***********************]  1 of 1 completed\n",
      "[*********************100%***********************]  1 of 1 completed\n",
      "[*********************100%***********************]  1 of 1 completed\n",
      "[*********************100%***********************]  1 of 1 completed\n",
      "[*********************100%***********************]  1 of 1 completed\n",
      "[*********************100%***********************]  1 of 1 completed\n",
      "[*********************100%***********************]  1 of 1 completed\n",
      "[*********************100%***********************]  1 of 1 completed\n",
      "[*********************100%***********************]  1 of 1 completed\n",
      "[*********************100%***********************]  1 of 1 completed\n",
      "[*********************100%***********************]  1 of 1 completed\n",
      "[*********************100%***********************]  1 of 1 completed\n",
      "[*********************100%***********************]  1 of 1 completed\n",
      "[*********************100%***********************]  1 of 1 completed\n",
      "[*********************100%***********************]  1 of 1 completed\n",
      "[*********************100%***********************]  1 of 1 completed\n",
      "[*********************100%***********************]  1 of 1 completed\n",
      "[*********************100%***********************]  1 of 1 completed\n",
      "[*********************100%***********************]  1 of 1 completed\n",
      "[*********************100%***********************]  1 of 1 completed\n",
      "[*********************100%***********************]  1 of 1 completed\n",
      "[*********************100%***********************]  1 of 1 completed\n",
      "[*********************100%***********************]  1 of 1 completed\n",
      "[*********************100%***********************]  1 of 1 completed\n",
      "[*********************100%***********************]  1 of 1 completed\n",
      "[*********************100%***********************]  1 of 1 completed\n",
      "[*********************100%***********************]  1 of 1 completed\n",
      "[*********************100%***********************]  1 of 1 completed\n",
      "[*********************100%***********************]  1 of 1 completed\n",
      "[*********************100%***********************]  1 of 1 completed\n",
      "[*********************100%***********************]  1 of 1 completed\n",
      "[*********************100%***********************]  1 of 1 completed\n",
      "[*********************100%***********************]  1 of 1 completed\n",
      "[*********************100%***********************]  1 of 1 completed\n",
      "[*********************100%***********************]  1 of 1 completed\n",
      "[*********************100%***********************]  1 of 1 completed\n",
      "[*********************100%***********************]  1 of 1 completed\n",
      "[*********************100%***********************]  1 of 1 completed\n",
      "[*********************100%***********************]  1 of 1 completed\n",
      "[*********************100%***********************]  1 of 1 completed\n",
      "[*********************100%***********************]  1 of 1 completed\n",
      "[*********************100%***********************]  1 of 1 completed\n",
      "[*********************100%***********************]  1 of 1 completed\n",
      "[*********************100%***********************]  1 of 1 completed\n",
      "[*********************100%***********************]  1 of 1 completed\n",
      "[*********************100%***********************]  1 of 1 completed\n",
      "[*********************100%***********************]  1 of 1 completed\n",
      "[*********************100%***********************]  1 of 1 completed\n",
      "[*********************100%***********************]  1 of 1 completed\n",
      "[*********************100%***********************]  1 of 1 completed\n",
      "[*********************100%***********************]  1 of 1 completed\n",
      "[*********************100%***********************]  1 of 1 completed\n",
      "[*********************100%***********************]  1 of 1 completed\n",
      "[*********************100%***********************]  1 of 1 completed\n",
      "[*********************100%***********************]  1 of 1 completed\n",
      "[*********************100%***********************]  1 of 1 completed\n",
      "[*********************100%***********************]  1 of 1 completed\n",
      "[*********************100%***********************]  1 of 1 completed\n",
      "[*********************100%***********************]  1 of 1 completed\n",
      "[*********************100%***********************]  1 of 1 completed\n",
      "[*********************100%***********************]  1 of 1 completed\n",
      "[*********************100%***********************]  1 of 1 completed\n",
      "[*********************100%***********************]  1 of 1 completed\n",
      "[*********************100%***********************]  1 of 1 completed\n",
      "[*********************100%***********************]  1 of 1 completed\n",
      "[*********************100%***********************]  1 of 1 completed\n",
      "[*********************100%***********************]  1 of 1 completed\n",
      "[*********************100%***********************]  1 of 1 completed\n"
     ]
    }
   ],
   "source": [
    "cerebro = bt.Cerebro()\n",
    " \n",
    "stocks = SYM\n",
    "for s in stocks: \n",
    "    data = yf.download(s, start=\"2012-01-01\", end=\"2023-01-17\") \n",
    "    data.to_csv('data.csv')\n",
    "    data = btfeeds.YahooFinanceCSVData(dataname='data.csv')\n",
    "    cerebro.adddata(data, name = s)\n",
    "\n",
    "           "
   ]
  },
  {
   "cell_type": "code",
   "execution_count": 27,
   "metadata": {},
   "outputs": [],
   "source": [
    "def dmd_pred(j,i=16) :\n",
    "    # creating the matrix mat \n",
    "    # i days are trained j th day from last \n",
    "    mat = matx.iloc[:, -(i)+j:j]\n",
    "    mat=mat.to_numpy()\n",
    "\n",
    "\n",
    "    # dmd \n",
    "    dmd = pydmd.DMD(svd_rank=mat.shape[1])\n",
    "    dmd.fit(mat)\n",
    "\n",
    "    d_ind = np.argmax(np.abs(dmd.amplitudes.real))\n",
    "    print(np.amax(dmd.modes[:,d_ind].real))\n",
    "\n",
    "    #if any(np.abs(dmd.eigs.real)>1) and dmd.amplitudes.real[d_ind] > 0 :\n",
    "    if np.abs(dmd.eigs.real[d_ind])>1 and dmd.eigs.imag[d_ind] == 0 and dmd.amplitudes.real[d_ind] > 0 :\n",
    "        print(\"^^^^ GrowinG ^^^^\")\n",
    "        d_ind = np.argmax(np.abs(dmd.amplitudes.real))\n",
    "        return(d_ind)\n",
    "\n",
    "        \n",
    " \n",
    "    else:\n",
    "        return(0)\n",
    "\n"
   ]
  },
  {
   "cell_type": "code",
   "execution_count": 23,
   "metadata": {},
   "outputs": [
    {
     "data": {
      "text/plain": [
       "['KARURVYSYA.NS',\n",
       " 'RELIANCE.NS',\n",
       " 'TCS.NS',\n",
       " 'HDFCBANK.NS',\n",
       " 'INFY.NS',\n",
       " 'HINDUNILVR.NS',\n",
       " 'ICICIBANK.NS',\n",
       " 'SBIN.NS',\n",
       " 'HDFC.NS',\n",
       " 'DICIND.NS',\n",
       " 'BHARTIARTL.NS',\n",
       " 'ADANIENT.NS',\n",
       " 'ATGL.NS',\n",
       " 'ITC.NS',\n",
       " 'BAJFINANCE.NS',\n",
       " 'KOTAKBANK.NS',\n",
       " 'ADANIGREEN.NS',\n",
       " 'LT.NS',\n",
       " 'ADANITRANS.NS',\n",
       " 'HCLTECH.NS',\n",
       " 'AXISBANK.NS',\n",
       " 'ASIANPAINT.NS',\n",
       " 'MARUTI.NS',\n",
       " 'DMART.NS',\n",
       " 'SUNPHARMA.NS',\n",
       " 'BAJAJFINSV.NS',\n",
       " 'WIPRO.NS',\n",
       " 'TITAN.NS',\n",
       " 'ULTRACEMCO.NS',\n",
       " 'NESTLEIND.NS',\n",
       " 'JSWSTEEL.NS',\n",
       " 'ONGC.NS',\n",
       " 'ADANIPORTS.NS',\n",
       " 'M&M.NS',\n",
       " 'NTPC.NS',\n",
       " 'POWERGRID.NS',\n",
       " 'HINDZINC.NS',\n",
       " 'TATASTEEL.NS',\n",
       " 'TATAMOTORS.NS',\n",
       " 'COALINDIA.NS',\n",
       " 'SBILIFE.NS',\n",
       " 'HDFCLIFE.NS',\n",
       " 'PIDILITIND.NS',\n",
       " 'LTIM.NS',\n",
       " 'VEDL.NS',\n",
       " 'IOC.NS',\n",
       " 'HINDALCO.NS',\n",
       " 'GRASIM.NS',\n",
       " 'ADANIPOWER.NS',\n",
       " 'SIEMENS.NS',\n",
       " 'BRITANNIA.NS',\n",
       " 'AMBUJACEM.NS',\n",
       " 'BAJAJ-AUTO.NS',\n",
       " 'TECHM.NS',\n",
       " 'DABUR.NS',\n",
       " 'INDUSINDBK.NS',\n",
       " 'BANKBARODA.NS',\n",
       " 'GODREJIND.NS',\n",
       " 'DLF.NS',\n",
       " 'DIVISLAB.NS',\n",
       " 'SHREECEM.NS',\n",
       " 'EICHERMOT.NS',\n",
       " 'CIPLA.NS',\n",
       " 'HAL.NS',\n",
       " 'INDIGO.NS',\n",
       " 'BPCL.NS',\n",
       " 'AWL.NS',\n",
       " 'SBICARD.NS',\n",
       " 'VBL.NS',\n",
       " 'HAVELLS.NS',\n",
       " 'DRREDDY.NS',\n",
       " 'TATACONSUM.NS',\n",
       " 'ICICIPRULI.NS',\n",
       " 'BAJAJHLDNG.NS',\n",
       " 'TATAPOWER.NS',\n",
       " 'SRF.NS',\n",
       " 'MARICO.NS',\n",
       " 'GAIL.NS',\n",
       " 'PNB.NS',\n",
       " 'APOLLOHOSP.NS',\n",
       " 'JINDALSTEL.NS',\n",
       " 'ICICIGI.NS',\n",
       " 'MCDOWELL-N.NS',\n",
       " 'ABB.NS',\n",
       " 'CANBK.NS',\n",
       " 'IDBI.NS',\n",
       " 'YESBANK.NS',\n",
       " 'IOB.NS',\n",
       " 'BERGEPAINT.NS',\n",
       " 'UPL.NS',\n",
       " 'UNIONBANK.NS',\n",
       " 'TORNTPHARM.NS',\n",
       " 'MOTHERSON.NS',\n",
       " 'IRCTC.NS',\n",
       " 'TIINDIA.NS',\n",
       " 'BOSCHLTD.NS',\n",
       " 'INDUSTOWER.NS',\n",
       " 'PIIND.NS',\n",
       " 'FACT.NS',\n",
       " 'SUNTV.NS']"
      ]
     },
     "execution_count": 23,
     "metadata": {},
     "output_type": "execute_result"
    }
   ],
   "source": [
    "SYM"
   ]
  },
  {
   "cell_type": "code",
   "execution_count": 30,
   "metadata": {},
   "outputs": [],
   "source": [
    "class MyStrategy(bt.Strategy):\n",
    " \n",
    "     \n",
    "    def __init__(self):\n",
    "        self.ind = bt.indicators.SimpleMovingAverage(self.data.close, period=10)\n",
    " \n",
    "    def next(self):\n",
    "        for i, d in enumerate(self.datas):\n",
    "            stocks_to_buy = dmd_pred(j) # call the function to get the stocks to buy\n",
    "            for stock in stocks_to_buy:\n",
    "                self.buy(data = SYM[stock]) # buy 100 shares of each stock\n"
   ]
  },
  {
   "cell_type": "code",
   "execution_count": 7,
   "metadata": {},
   "outputs": [],
   "source": [
    "class MaCrossStrategy(bt.Strategy):\n",
    " \n",
    "     \n",
    "    def __init__(self):\n",
    "        self.ind = bt.indicators.SimpleMovingAverage(self.data.close, period=10)\n",
    " \n",
    "    def next(self):\n",
    "        for i, d in enumerate(self.datas):\n",
    "            if not self.getposition(d).size:\n",
    "                if self.crossovers[i] > 0: \n",
    "                    self.buy(data = d)\n",
    "            elif self.crossovers[i] < 0: \n",
    "                self.close(data = d)\n",
    " \n"
   ]
  },
  {
   "cell_type": "code",
   "execution_count": 31,
   "metadata": {},
   "outputs": [
    {
     "ename": "TypeError",
     "evalue": "dmd_pred() missing 1 required positional argument: 'j'",
     "output_type": "error",
     "traceback": [
      "\u001b[1;31m---------------------------------------------------------------------------\u001b[0m",
      "\u001b[1;31mTypeError\u001b[0m                                 Traceback (most recent call last)",
      "Cell \u001b[1;32mIn[31], line 11\u001b[0m\n\u001b[0;32m      8\u001b[0m cerebro\u001b[39m.\u001b[39maddanalyzer(btanalyzers\u001b[39m.\u001b[39mReturns,     _name \u001b[39m=\u001b[39m \u001b[39m\"\u001b[39m\u001b[39mreturns\u001b[39m\u001b[39m\"\u001b[39m)\n\u001b[0;32m      9\u001b[0m cerebro\u001b[39m.\u001b[39maddanalyzer(btanalyzers\u001b[39m.\u001b[39mTransactions, _name \u001b[39m=\u001b[39m \u001b[39m\"\u001b[39m\u001b[39mtrans\u001b[39m\u001b[39m\"\u001b[39m)\n\u001b[1;32m---> 11\u001b[0m back \u001b[39m=\u001b[39m cerebro\u001b[39m.\u001b[39;49mrun()\n\u001b[0;32m     13\u001b[0m cerebro\u001b[39m.\u001b[39mbroker\u001b[39m.\u001b[39mgetvalue()\n",
      "File \u001b[1;32mc:\\Users\\HAI\\anaconda3\\envs\\normie\\lib\\site-packages\\backtrader\\cerebro.py:1127\u001b[0m, in \u001b[0;36mCerebro.run\u001b[1;34m(self, **kwargs)\u001b[0m\n\u001b[0;32m   1123\u001b[0m \u001b[39mif\u001b[39;00m \u001b[39mnot\u001b[39;00m \u001b[39mself\u001b[39m\u001b[39m.\u001b[39m_dooptimize \u001b[39mor\u001b[39;00m \u001b[39mself\u001b[39m\u001b[39m.\u001b[39mp\u001b[39m.\u001b[39mmaxcpus \u001b[39m==\u001b[39m \u001b[39m1\u001b[39m:\n\u001b[0;32m   1124\u001b[0m     \u001b[39m# If no optimmization is wished ... or 1 core is to be used\u001b[39;00m\n\u001b[0;32m   1125\u001b[0m     \u001b[39m# let's skip process \"spawning\"\u001b[39;00m\n\u001b[0;32m   1126\u001b[0m     \u001b[39mfor\u001b[39;00m iterstrat \u001b[39min\u001b[39;00m iterstrats:\n\u001b[1;32m-> 1127\u001b[0m         runstrat \u001b[39m=\u001b[39m \u001b[39mself\u001b[39;49m\u001b[39m.\u001b[39;49mrunstrategies(iterstrat)\n\u001b[0;32m   1128\u001b[0m         \u001b[39mself\u001b[39m\u001b[39m.\u001b[39mrunstrats\u001b[39m.\u001b[39mappend(runstrat)\n\u001b[0;32m   1129\u001b[0m         \u001b[39mif\u001b[39;00m \u001b[39mself\u001b[39m\u001b[39m.\u001b[39m_dooptimize:\n",
      "File \u001b[1;32mc:\\Users\\HAI\\anaconda3\\envs\\normie\\lib\\site-packages\\backtrader\\cerebro.py:1293\u001b[0m, in \u001b[0;36mCerebro.runstrategies\u001b[1;34m(self, iterstrat, predata)\u001b[0m\n\u001b[0;32m   1291\u001b[0m         \u001b[39mself\u001b[39m\u001b[39m.\u001b[39m_runonce_old(runstrats)\n\u001b[0;32m   1292\u001b[0m     \u001b[39melse\u001b[39;00m:\n\u001b[1;32m-> 1293\u001b[0m         \u001b[39mself\u001b[39;49m\u001b[39m.\u001b[39;49m_runonce(runstrats)\n\u001b[0;32m   1294\u001b[0m \u001b[39melse\u001b[39;00m:\n\u001b[0;32m   1295\u001b[0m     \u001b[39mif\u001b[39;00m \u001b[39mself\u001b[39m\u001b[39m.\u001b[39mp\u001b[39m.\u001b[39moldsync:\n",
      "File \u001b[1;32mc:\\Users\\HAI\\anaconda3\\envs\\normie\\lib\\site-packages\\backtrader\\cerebro.py:1695\u001b[0m, in \u001b[0;36mCerebro._runonce\u001b[1;34m(self, runstrats)\u001b[0m\n\u001b[0;32m   1692\u001b[0m \u001b[39mself\u001b[39m\u001b[39m.\u001b[39m_check_timers(runstrats, dt0, cheat\u001b[39m=\u001b[39m\u001b[39mFalse\u001b[39;00m)\n\u001b[0;32m   1694\u001b[0m \u001b[39mfor\u001b[39;00m strat \u001b[39min\u001b[39;00m runstrats:\n\u001b[1;32m-> 1695\u001b[0m     strat\u001b[39m.\u001b[39;49m_oncepost(dt0)\n\u001b[0;32m   1696\u001b[0m     \u001b[39mif\u001b[39;00m \u001b[39mself\u001b[39m\u001b[39m.\u001b[39m_event_stop:  \u001b[39m# stop if requested\u001b[39;00m\n\u001b[0;32m   1697\u001b[0m         \u001b[39mreturn\u001b[39;00m\n",
      "File \u001b[1;32mc:\\Users\\HAI\\anaconda3\\envs\\normie\\lib\\site-packages\\backtrader\\strategy.py:311\u001b[0m, in \u001b[0;36mStrategy._oncepost\u001b[1;34m(self, dt)\u001b[0m\n\u001b[0;32m    309\u001b[0m     \u001b[39mself\u001b[39m\u001b[39m.\u001b[39mnext()\n\u001b[0;32m    310\u001b[0m \u001b[39melif\u001b[39;00m minperstatus \u001b[39m==\u001b[39m \u001b[39m0\u001b[39m:\n\u001b[1;32m--> 311\u001b[0m     \u001b[39mself\u001b[39;49m\u001b[39m.\u001b[39;49mnextstart()  \u001b[39m# only called for the 1st value\u001b[39;00m\n\u001b[0;32m    312\u001b[0m \u001b[39melse\u001b[39;00m:\n\u001b[0;32m    313\u001b[0m     \u001b[39mself\u001b[39m\u001b[39m.\u001b[39mprenext()\n",
      "File \u001b[1;32mc:\\Users\\HAI\\anaconda3\\envs\\normie\\lib\\site-packages\\backtrader\\lineiterator.py:347\u001b[0m, in \u001b[0;36mLineIterator.nextstart\u001b[1;34m(self)\u001b[0m\n\u001b[0;32m    340\u001b[0m \u001b[39m'''\u001b[39;00m\n\u001b[0;32m    341\u001b[0m \u001b[39mThis method will be called once, exactly when the minimum period for\u001b[39;00m\n\u001b[0;32m    342\u001b[0m \u001b[39mall datas/indicators have been meet. The default behavior is to call\u001b[39;00m\n\u001b[0;32m    343\u001b[0m \u001b[39mnext\u001b[39;00m\n\u001b[0;32m    344\u001b[0m \u001b[39m'''\u001b[39;00m\n\u001b[0;32m    346\u001b[0m \u001b[39m# Called once for 1st full calculation - defaults to regular next\u001b[39;00m\n\u001b[1;32m--> 347\u001b[0m \u001b[39mself\u001b[39;49m\u001b[39m.\u001b[39;49mnext()\n",
      "Cell \u001b[1;32mIn[24], line 9\u001b[0m, in \u001b[0;36mMaCrossStrategy.next\u001b[1;34m(self)\u001b[0m\n\u001b[0;32m      7\u001b[0m \u001b[39mdef\u001b[39;00m \u001b[39mnext\u001b[39m(\u001b[39mself\u001b[39m):\n\u001b[0;32m      8\u001b[0m     \u001b[39mfor\u001b[39;00m j \u001b[39min\u001b[39;00m \u001b[39mrange\u001b[39m(\u001b[39mlen\u001b[39m(\u001b[39mself\u001b[39m\u001b[39m.\u001b[39mdatas)):\n\u001b[1;32m----> 9\u001b[0m         stocks_to_buy \u001b[39m=\u001b[39m dmd_pred() \u001b[39m# call the function to get the stocks to buy\u001b[39;00m\n\u001b[0;32m     10\u001b[0m         \u001b[39mfor\u001b[39;00m stock \u001b[39min\u001b[39;00m stocks_to_buy:\n\u001b[0;32m     11\u001b[0m             \u001b[39mself\u001b[39m\u001b[39m.\u001b[39mbuy(data \u001b[39m=\u001b[39m SYM[stock])\n",
      "\u001b[1;31mTypeError\u001b[0m: dmd_pred() missing 1 required positional argument: 'j'"
     ]
    }
   ],
   "source": [
    "cerebro.addstrategy(MaCrossStrategy)\n",
    " \n",
    "cerebro.broker.setcash(1000000.0)\n",
    " \n",
    "cerebro.addsizer(bt.sizers.PercentSizer, percents = 1.5)\n",
    " \n",
    "cerebro.addanalyzer(btanalyzers.SharpeRatio, _name = \"sharpe\")\n",
    "cerebro.addanalyzer(btanalyzers.Returns,     _name = \"returns\")\n",
    "cerebro.addanalyzer(btanalyzers.Transactions, _name = \"trans\")\n",
    " \n",
    "back = cerebro.run()\n",
    " \n",
    "cerebro.broker.getvalue()\n"
   ]
  },
  {
   "cell_type": "code",
   "execution_count": 21,
   "metadata": {},
   "outputs": [
    {
     "data": {
      "text/plain": [
       "-inf"
      ]
     },
     "execution_count": 21,
     "metadata": {},
     "output_type": "execute_result"
    }
   ],
   "source": [
    "back[0].analyzers.returns.get_analysis()['rnorm100']\n"
   ]
  },
  {
   "cell_type": "code",
   "execution_count": null,
   "metadata": {},
   "outputs": [],
   "source": [
    "back[0].analyzers.returns.get_analysis()['rnorm100']\n",
    "back[0].analyzers.sharpe.get_analysis()\n",
    "back[0].analyzers.trans.get_analysis()"
   ]
  },
  {
   "cell_type": "code",
   "execution_count": 7,
   "metadata": {},
   "outputs": [
    {
     "data": {
      "text/plain": [
       "2309349.409298027"
      ]
     },
     "execution_count": 7,
     "metadata": {},
     "output_type": "execute_result"
    }
   ],
   "source": [
    "cerebro.broker.getvalue()\n"
   ]
  }
 ],
 "metadata": {
  "kernelspec": {
   "display_name": "normie",
   "language": "python",
   "name": "python3"
  },
  "language_info": {
   "codemirror_mode": {
    "name": "ipython",
    "version": 3
   },
   "file_extension": ".py",
   "mimetype": "text/x-python",
   "name": "python",
   "nbconvert_exporter": "python",
   "pygments_lexer": "ipython3",
   "version": "3.9.15"
  },
  "orig_nbformat": 4,
  "vscode": {
   "interpreter": {
    "hash": "4f45246d46b54e5e727c3ddad81ba589f4dff0ee5e457e240d3fd1e741d3b20e"
   }
  }
 },
 "nbformat": 4,
 "nbformat_minor": 2
}
